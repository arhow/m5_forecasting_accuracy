{
 "cells": [
  {
   "cell_type": "code",
   "execution_count": 5,
   "metadata": {},
   "outputs": [
    {
     "data": {
      "text/html": [
       "<style>\n",
       "   div#notebook-container    { width: 95%; }\n",
       "   div#menubar-container     { width: 65%; }\n",
       "   div#maintoolbar-container { width: 99%; }\n",
       "</style>\n"
      ],
      "text/plain": [
       "<IPython.core.display.HTML object>"
      ]
     },
     "metadata": {},
     "output_type": "display_data"
    }
   ],
   "source": [
    "%%HTML\n",
    "<style>\n",
    "   div#notebook-container    { width: 95%; }\n",
    "   div#menubar-container     { width: 65%; }\n",
    "   div#maintoolbar-container { width: 99%; }\n",
    "</style>"
   ]
  },
  {
   "cell_type": "code",
   "execution_count": 1,
   "metadata": {},
   "outputs": [],
   "source": [
    "import numpy as np\n",
    "import pandas as pd\n",
    "import lightgbm as lgb\n",
    "import time"
   ]
  },
  {
   "cell_type": "code",
   "execution_count": 2,
   "metadata": {},
   "outputs": [],
   "source": [
    "import os\n",
    "import sys\n",
    "sys.path.insert(0, os.path.abspath('../'))\n",
    "from module.lgbm_baseline import *"
   ]
  },
  {
   "cell_type": "code",
   "execution_count": 3,
   "metadata": {},
   "outputs": [],
   "source": [
    "# Train CA_1\n",
    "# Fold: 0\n",
    "# 3130397 1572498\n",
    "# [100]\ttraining's rmse: 2.6008\tvalid_1's rmse: 2.6206\n",
    "# [200]\ttraining's rmse: 2.49692\tvalid_1's rmse: 2.5229\n",
    "# [300]\ttraining's rmse: 2.45556\tvalid_1's rmse: 2.4921\n",
    "# [400]\ttraining's rmse: 2.43108\tvalid_1's rmse: 2.47597\n",
    "# [500]\ttraining's rmse: 2.41148\tvalid_1's rmse: 2.46585\n",
    "# [600]\ttraining's rmse: 2.39295\tvalid_1's rmse: 2.45826\n",
    "# [700]\ttraining's rmse: 2.37771\tvalid_1's rmse: 2.45305\n",
    "# [800]\ttraining's rmse: 2.36466\tvalid_1's rmse: 2.44889\n",
    "# [900]\ttraining's rmse: 2.35218\tvalid_1's rmse: 2.44613\n",
    "# [1000]\ttraining's rmse: 2.34095\tvalid_1's rmse: 2.44366\n",
    "# [1100]\ttraining's rmse: 2.3296\tvalid_1's rmse: 2.4418\n",
    "# [1200]\ttraining's rmse: 2.32009\tvalid_1's rmse: 2.44015\n",
    "# [1300]\ttraining's rmse: 2.31056\tvalid_1's rmse: 2.43845\n",
    "# [1400]\ttraining's rmse: 2.30141\tvalid_1's rmse: 2.43791"
   ]
  },
  {
   "cell_type": "code",
   "execution_count": 4,
   "metadata": {},
   "outputs": [],
   "source": [
    "if not os.path.exists(TEMP_FEATURE_PKL):\n",
    "    train_df = pd.read_csv(f'{ORI_CSV_PATH}/sales_train_validation.csv')\n",
    "    prices_df = pd.read_csv(f'{ORI_CSV_PATH}/sell_prices.csv')\n",
    "    calendar_df = pd.read_csv(f'{ORI_CSV_PATH}/calendar.csv')\n",
    "    try:\n",
    "        if not os.path.exists(BASE_PATH):\n",
    "            os.makedirs(BASE_PATH)\n",
    "    except OSError:\n",
    "        print(\"Creation of the directory %s failed\" % BASE_PATH)\n",
    "    else:\n",
    "        print(\"Successfully created the directory %s\" % BASE_PATH)\n",
    "\n",
    "    grid_df = extract_features(train_df, prices_df, calendar_df, target=TARGET, base_path=None, nan_mask_d=1913 - 28)\n",
    "    grid_df['item_id'] = grid_df['item_id'].astype('category')\n",
    "    grid_df['dept_id'] = grid_df['dept_id'].astype('category')\n",
    "    grid_df['cat_id'] = grid_df['cat_id'].astype('category')\n",
    "#     grid_df['item_id'] = grid_df['item_id'].apply(lambda x: int(x.split('_')[-1])).astype('category')\n",
    "#     grid_df['dept_id'] = grid_df['dept_id'].apply(lambda x: int(x.split('_')[-1])).astype('category')\n",
    "#     grid_df['cat_id'] = grid_df['cat_id'].replace({'HOBBIES': 0, 'HOUSEHOLD': 1, 'FOODS': 2}).astype('category')\n",
    "#     for col in ['event_name_1', 'event_type_1', 'event_name_2', 'event_type_2']:\n",
    "#         grid_df[col] = grid_df[col].replace(\n",
    "#             dict(zip(grid_df[col].unique(), np.arange(grid_df[col].unique().shape[0])))).astype('category')\n",
    "    grid_df = reduce_mem_usage(grid_df)\n",
    "    grid_df.to_pickle(TEMP_FEATURE_PKL)"
   ]
  },
  {
   "cell_type": "code",
   "execution_count": 5,
   "metadata": {},
   "outputs": [],
   "source": [
    "# Train CA_1\n",
    "# Fold: 0\n",
    "# C:\\Users\\wangz\\.conda\\envs\\tf_gpu\\lib\\site-packages\\lightgbm\\engine.py:148: UserWarning: Found `n_estimators` in params. Will use it instead of argument\n",
    "#   warnings.warn(\"Found `{}` in params. Will use it instead of argument\".format(alias))\n",
    "# [100]\ttraining's rmse: 2.60318\tvalid_1's rmse: 2.62208\n",
    "# [200]\ttraining's rmse: 2.50157\tvalid_1's rmse: 2.52419\n",
    "# [300]\ttraining's rmse: 2.4642\tvalid_1's rmse: 2.49568\n",
    "# [400]\ttraining's rmse: 2.44104\tvalid_1's rmse: 2.48046\n",
    "# [500]\ttraining's rmse: 2.42177\tvalid_1's rmse: 2.47014\n",
    "# [600]\ttraining's rmse: 2.40591\tvalid_1's rmse: 2.46254\n",
    "# [700]\ttraining's rmse: 2.3926\tvalid_1's rmse: 2.45762\n",
    "# [800]\ttraining's rmse: 2.38012\tvalid_1's rmse: 2.45321\n",
    "# [900]\ttraining's rmse: 2.36938\tvalid_1's rmse: 2.45025\n",
    "# [1000]\ttraining's rmse: 2.3593\tvalid_1's rmse: 2.44745\n",
    "# [1100]\ttraining's rmse: 2.34916\tvalid_1's rmse: 2.44433\n",
    "# [1200]\ttraining's rmse: 2.33982\tvalid_1's rmse: 2.44216\n",
    "# [1300]\ttraining's rmse: 2.3312\tvalid_1's rmse: 2.44038\n",
    "# [1400]\ttraining's rmse: 2.32275\tvalid_1's rmse: 2.43942\n",
    "# Fold: 1\n",
    "# [100]\ttraining's rmse: 2.62173\tvalid_1's rmse: 2.55882\n",
    "# [200]\ttraining's rmse: 2.5159\tvalid_1's rmse: 2.46976\n",
    "# [300]\ttraining's rmse: 2.47965\tvalid_1's rmse: 2.44816\n",
    "# [400]\ttraining's rmse: 2.45607\tvalid_1's rmse: 2.43657\n",
    "# [500]\ttraining's rmse: 2.43602\tvalid_1's rmse: 2.42888\n",
    "# [600]\ttraining's rmse: 2.41852\tvalid_1's rmse: 2.42434\n",
    "# [700]\ttraining's rmse: 2.40389\tvalid_1's rmse: 2.4215\n",
    "# [800]\ttraining's rmse: 2.38948\tvalid_1's rmse: 2.41963\n",
    "# [900]\ttraining's rmse: 2.37741\tvalid_1's rmse: 2.41814\n",
    "# [1000]\ttraining's rmse: 2.36623\tvalid_1's rmse: 2.41684\n",
    "# [1100]\ttraining's rmse: 2.35561\tvalid_1's rmse: 2.4159\n",
    "# [1200]\ttraining's rmse: 2.34601\tvalid_1's rmse: 2.41422\n",
    "# [1300]\ttraining's rmse: 2.33624\tvalid_1's rmse: 2.41387\n",
    "# [1400]\ttraining's rmse: 2.32673\tvalid_1's rmse: 2.41381\n",
    "# Fold: 2\n",
    "# [100]\ttraining's rmse: 2.57696\tvalid_1's rmse: 2.66171\n",
    "# [200]\ttraining's rmse: 2.46543\tvalid_1's rmse: 2.57209\n",
    "# [300]\ttraining's rmse: 2.4255\tvalid_1's rmse: 2.54832\n",
    "# [400]\ttraining's rmse: 2.40047\tvalid_1's rmse: 2.53751\n",
    "# [500]\ttraining's rmse: 2.3809\tvalid_1's rmse: 2.53183\n",
    "# [600]\ttraining's rmse: 2.36585\tvalid_1's rmse: 2.52799\n",
    "# [700]\ttraining's rmse: 2.35234\tvalid_1's rmse: 2.52558\n",
    "# [800]\ttraining's rmse: 2.33953\tvalid_1's rmse: 2.52356\n",
    "# [900]\ttraining's rmse: 2.32779\tvalid_1's rmse: 2.52293\n",
    "# [1000]\ttraining's rmse: 2.31775\tvalid_1's rmse: 2.52196\n",
    "# [1100]\ttraining's rmse: 2.30764\tvalid_1's rmse: 2.52138\n",
    "# [1200]\ttraining's rmse: 2.29857\tvalid_1's rmse: 2.52055\n",
    "# [1300]\ttraining's rmse: 2.28967\tvalid_1's rmse: 2.5196\n",
    "# [1400]\ttraining's rmse: 2.28129\tvalid_1's rmse: 2.51873\n",
    "# 2.457321714089768"
   ]
  },
  {
   "cell_type": "code",
   "execution_count": 6,
   "metadata": {},
   "outputs": [
    {
     "name": "stdout",
     "output_type": "stream",
     "text": [
      "Train CA_1\n",
      "Fold: 0\n"
     ]
    },
    {
     "name": "stderr",
     "output_type": "stream",
     "text": [
      "C:\\Users\\wangz\\.conda\\envs\\tf_gpu\\lib\\site-packages\\lightgbm\\engine.py:148: UserWarning: Found `n_estimators` in params. Will use it instead of argument\n",
      "  warnings.warn(\"Found `{}` in params. Will use it instead of argument\".format(alias))\n"
     ]
    },
    {
     "name": "stdout",
     "output_type": "stream",
     "text": [
      "[100]\ttraining's rmse: 2.56895\tvalid_1's rmse: 2.65591\n",
      "[200]\ttraining's rmse: 2.45507\tvalid_1's rmse: 2.57769\n",
      "[300]\ttraining's rmse: 2.41626\tvalid_1's rmse: 2.56035\n",
      "[400]\ttraining's rmse: 2.39258\tvalid_1's rmse: 2.5522\n",
      "[500]\ttraining's rmse: 2.37338\tvalid_1's rmse: 2.54688\n",
      "[600]\ttraining's rmse: 2.35716\tvalid_1's rmse: 2.54473\n",
      "[700]\ttraining's rmse: 2.34341\tvalid_1's rmse: 2.54305\n",
      "[800]\ttraining's rmse: 2.33108\tvalid_1's rmse: 2.54275\n",
      "[900]\ttraining's rmse: 2.32041\tvalid_1's rmse: 2.54226\n",
      "[1000]\ttraining's rmse: 2.31006\tvalid_1's rmse: 2.54177\n",
      "[1100]\ttraining's rmse: 2.30031\tvalid_1's rmse: 2.54091\n",
      "[1200]\ttraining's rmse: 2.29044\tvalid_1's rmse: 2.54065\n",
      "[1300]\ttraining's rmse: 2.28214\tvalid_1's rmse: 2.54035\n",
      "[1400]\ttraining's rmse: 2.27368\tvalid_1's rmse: 2.54076\n",
      "Fold: 1\n",
      "[100]\ttraining's rmse: 2.63421\tvalid_1's rmse: 2.5196\n",
      "[200]\ttraining's rmse: 2.5179\tvalid_1's rmse: 2.44489\n",
      "[300]\ttraining's rmse: 2.47859\tvalid_1's rmse: 2.42983\n",
      "[400]\ttraining's rmse: 2.45414\tvalid_1's rmse: 2.42274\n",
      "[500]\ttraining's rmse: 2.43429\tvalid_1's rmse: 2.41845\n",
      "[600]\ttraining's rmse: 2.41742\tvalid_1's rmse: 2.41485\n",
      "[700]\ttraining's rmse: 2.40259\tvalid_1's rmse: 2.41431\n",
      "[800]\ttraining's rmse: 2.38955\tvalid_1's rmse: 2.41453\n",
      "[900]\ttraining's rmse: 2.37788\tvalid_1's rmse: 2.41501\n",
      "[1000]\ttraining's rmse: 2.36638\tvalid_1's rmse: 2.41545\n",
      "[1100]\ttraining's rmse: 2.35527\tvalid_1's rmse: 2.41561\n",
      "[1200]\ttraining's rmse: 2.34567\tvalid_1's rmse: 2.41598\n",
      "[1300]\ttraining's rmse: 2.33706\tvalid_1's rmse: 2.41609\n",
      "[1400]\ttraining's rmse: 2.32887\tvalid_1's rmse: 2.41592\n",
      "Fold: 2\n",
      "[100]\ttraining's rmse: 2.5947\tvalid_1's rmse: 2.69213\n",
      "[200]\ttraining's rmse: 2.49409\tvalid_1's rmse: 2.57596\n",
      "[300]\ttraining's rmse: 2.45892\tvalid_1's rmse: 2.54616\n",
      "[400]\ttraining's rmse: 2.43631\tvalid_1's rmse: 2.53264\n",
      "[500]\ttraining's rmse: 2.41743\tvalid_1's rmse: 2.52235\n",
      "[600]\ttraining's rmse: 2.40229\tvalid_1's rmse: 2.51708\n",
      "[700]\ttraining's rmse: 2.38902\tvalid_1's rmse: 2.51218\n",
      "[800]\ttraining's rmse: 2.37723\tvalid_1's rmse: 2.5102\n",
      "[900]\ttraining's rmse: 2.36559\tvalid_1's rmse: 2.50741\n",
      "[1000]\ttraining's rmse: 2.35514\tvalid_1's rmse: 2.50496\n",
      "[1100]\ttraining's rmse: 2.3456\tvalid_1's rmse: 2.50441\n",
      "[1200]\ttraining's rmse: 2.336\tvalid_1's rmse: 2.5036\n",
      "[1300]\ttraining's rmse: 2.32662\tvalid_1's rmse: 2.50245\n",
      "[1400]\ttraining's rmse: 2.31812\tvalid_1's rmse: 2.50269\n",
      "2.486458496286452\n"
     ]
    }
   ],
   "source": [
    "history_df = train_evaluate_model(M5_FEATURES, TARGET, BASE_PATH, stores_ids=['CA_1'])\n",
    "print(history_df.rmse_val.mean())\n",
    "history_df.to_pickle(f'{BASE_PATH}/history.pkl')"
   ]
  },
  {
   "cell_type": "code",
   "execution_count": null,
   "metadata": {},
   "outputs": [
    {
     "name": "stdout",
     "output_type": "stream",
     "text": [
      "FOLD0 Predict | Day:1\n",
      "##########  0.32 min round |  0.32 min total |  4168.00 day sales |\n",
      "FOLD0 Predict | Day:2\n",
      "##########  0.32 min round |  0.63 min total |  3738.00 day sales |\n",
      "FOLD0 Predict | Day:3\n",
      "##########  0.32 min round |  0.95 min total |  3668.00 day sales |\n",
      "FOLD0 Predict | Day:4\n",
      "##########  0.31 min round |  1.27 min total |  3772.00 day sales |\n",
      "FOLD0 Predict | Day:5\n",
      "##########  0.31 min round |  1.58 min total |  4540.00 day sales |\n",
      "FOLD0 Predict | Day:6\n",
      "##########  0.31 min round |  1.89 min total |  5872.00 day sales |\n",
      "FOLD0 Predict | Day:7\n",
      "##########  0.31 min round |  2.21 min total |  6836.00 day sales |\n",
      "FOLD0 Predict | Day:8\n",
      "##########  0.31 min round |  2.52 min total |  4888.00 day sales |\n",
      "FOLD0 Predict | Day:9\n",
      "##########  0.31 min round |  2.83 min total |  4632.00 day sales |\n",
      "FOLD0 Predict | Day:10\n",
      "##########  0.31 min round |  3.15 min total |  4304.00 day sales |\n",
      "FOLD0 Predict | Day:11\n",
      "##########  0.31 min round |  3.46 min total |  4192.00 day sales |\n",
      "FOLD0 Predict | Day:12\n",
      "##########  0.31 min round |  3.78 min total |  5020.00 day sales |\n",
      "FOLD0 Predict | Day:13\n",
      "##########  0.31 min round |  4.09 min total |  6332.00 day sales |\n",
      "FOLD0 Predict | Day:14\n",
      "##########  0.32 min round |  4.41 min total |  5336.00 day sales |\n",
      "FOLD0 Predict | Day:15\n",
      "##########  0.31 min round |  4.73 min total |  4908.00 day sales |\n",
      "FOLD0 Predict | Day:16\n"
     ]
    }
   ],
   "source": [
    "final_all_preds = predict_test(M5_FEATURES, TARGET, BASE_PATH, stores_ids=['CA_1'])\n",
    "for col in [f'F{i}' for i in range(1, 29)]:\n",
    "    print(col, final_all_preds[col].sum())\n",
    "# submission = pd.read_csv(f'{ORI_CSV_PATH}/sample_submission.csv')\n",
    "# submission = pd.concat([final_all_preds, submission[~submission['id'].isin(final_all_preds.id.unique().tolist())]],axis=0)\n",
    "# submission.to_csv(f'{BASE_PATH}/submission.csv', index=False)"
   ]
  },
  {
   "cell_type": "code",
   "execution_count": null,
   "metadata": {},
   "outputs": [],
   "source": [
    "submission = pd.read_csv(f'../cache/submission/lgbm_baseline_submission_47726.csv')\n",
    "submission = pd.concat([submission[~submission['id'].isin(final_all_preds.id.unique().tolist())], final_all_preds], axis=0)\n",
    "submission.to_csv('../cache/submission/lgbm_baseline_submission_groupbymonth.csv', index=False)"
   ]
  },
  {
   "cell_type": "code",
   "execution_count": null,
   "metadata": {},
   "outputs": [],
   "source": []
  }
 ],
 "metadata": {
  "kernelspec": {
   "display_name": "Python 3",
   "language": "python",
   "name": "python3"
  },
  "language_info": {
   "codemirror_mode": {
    "name": "ipython",
    "version": 3
   },
   "file_extension": ".py",
   "mimetype": "text/x-python",
   "name": "python",
   "nbconvert_exporter": "python",
   "pygments_lexer": "ipython3",
   "version": "3.7.7"
  }
 },
 "nbformat": 4,
 "nbformat_minor": 2
}
